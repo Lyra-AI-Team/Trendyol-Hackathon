{
 "cells": [
  {
   "cell_type": "code",
   "execution_count": 2,
   "id": "b58f06e2-a326-4ce9-9174-8b03f7be5167",
   "metadata": {
    "tags": []
   },
   "outputs": [],
   "source": [
    "from transformers import logging\n",
    "logging.set_verbosity_error()"
   ]
  },
  {
   "cell_type": "code",
   "execution_count": 3,
   "id": "f76aa1a9-9188-494e-bc26-366b9a7e81cb",
   "metadata": {
    "tags": []
   },
   "outputs": [
    {
     "name": "stderr",
     "output_type": "stream",
     "text": [
      "2024-10-03 07:13:25.309573: I tensorflow/core/util/port.cc:153] oneDNN custom operations are on. You may see slightly different numerical results due to floating-point round-off errors from different computation orders. To turn them off, set the environment variable `TF_ENABLE_ONEDNN_OPTS=0`.\n",
      "2024-10-03 07:13:25.327380: E external/local_xla/xla/stream_executor/cuda/cuda_fft.cc:485] Unable to register cuFFT factory: Attempting to register factory for plugin cuFFT when one has already been registered\n",
      "2024-10-03 07:13:25.349106: E external/local_xla/xla/stream_executor/cuda/cuda_dnn.cc:8454] Unable to register cuDNN factory: Attempting to register factory for plugin cuDNN when one has already been registered\n",
      "2024-10-03 07:13:25.355855: E external/local_xla/xla/stream_executor/cuda/cuda_blas.cc:1452] Unable to register cuBLAS factory: Attempting to register factory for plugin cuBLAS when one has already been registered\n",
      "2024-10-03 07:13:25.371556: I tensorflow/core/platform/cpu_feature_guard.cc:210] This TensorFlow binary is optimized to use available CPU instructions in performance-critical operations.\n",
      "To enable the following instructions: AVX2 AVX512F AVX512_VNNI FMA, in other operations, rebuild TensorFlow with the appropriate compiler flags.\n"
     ]
    }
   ],
   "source": [
    "from datasets import load_dataset\n",
    "from peft import LoraConfig\n",
    "from trl import SFTTrainer\n",
    "from transformers import (\n",
    "    AutoModelForCausalLM,\n",
    "    AutoTokenizer,\n",
    "    TrainingArguments,\n",
    "    pipeline,\n",
    "    logging,\n",
    ")"
   ]
  },
  {
   "cell_type": "code",
   "execution_count": 4,
   "id": "49ccefb7-7da4-4186-9fab-6f3444d6bccf",
   "metadata": {
    "tags": []
   },
   "outputs": [],
   "source": [
    "base_model = \"amd/AMD-Llama-135m\" # https://huggingface.co/meta-llama/Llama3.1-8B\n",
    "\n",
    "hf_dataset = \"ahmeterdempmk/Llama-E-Commerce-Fine-Tune-Data\" # https://huggingface.co/ahmeterdempmk/Llama-E-Commerce-Fine-Tune-Data"
   ]
  },
  {
   "cell_type": "code",
   "execution_count": 5,
   "id": "a858eead-ed11-480a-b69e-8147c4d9a536",
   "metadata": {
    "tags": []
   },
   "outputs": [],
   "source": [
    "dataset = load_dataset(hf_dataset, split=\"train\")"
   ]
  },
  {
   "cell_type": "code",
   "execution_count": 6,
   "id": "35472b09-7591-46a8-96d5-69e8952e11fb",
   "metadata": {
    "tags": []
   },
   "outputs": [],
   "source": [
    "model = AutoModelForCausalLM.from_pretrained (\n",
    "    base_model,\n",
    "    device_map={\"\": 0}\n",
    ")\n",
    "model.config.use_cache = False\n",
    "model.config.pretraining_tp = 1\n",
    "model.low_cpu_mem_usage=True"
   ]
  },
  {
   "cell_type": "code",
   "execution_count": 7,
   "id": "a8caed16-65cb-417b-9e51-301c00fcd0b6",
   "metadata": {
    "tags": []
   },
   "outputs": [],
   "source": [
    "tokenizer = AutoTokenizer.from_pretrained(base_model, trust_remote_code=True)\n",
    "tokenizer.pad_token = tokenizer.eos_token\n",
    "tokenizer.padding_side = \"right\""
   ]
  },
  {
   "cell_type": "code",
   "execution_count": 8,
   "id": "5d48922c-28a1-4918-a1ce-4ddd1e1b2469",
   "metadata": {
    "tags": []
   },
   "outputs": [],
   "source": [
    "peft_params = LoraConfig (\n",
    "    lora_alpha=16, # the scaling factor for the low-rank matrices\n",
    "    lora_dropout=0.1, # the dropout probability of the LoRA layers\n",
    "    r=64, # the dimension of the low-rank matrices\n",
    "    bias=\"none\",\n",
    "    task_type=\"CAUSAL_LM\", # the task to train for (sequence-to-sequence language modeling in this case)\n",
    ")"
   ]
  },
  {
   "cell_type": "code",
   "execution_count": 9,
   "id": "9bf613e7-bdd8-47d7-87d5-1cb56db8af6b",
   "metadata": {
    "tags": []
   },
   "outputs": [],
   "source": [
    "training_params = TrainingArguments (\n",
    "    output_dir=\"./Llama135Results\",\n",
    "    num_train_epochs=5, # One training epoch.\n",
    "    per_device_train_batch_size=4, # Batch size per GPU for training.\n",
    "    gradient_accumulation_steps=1, # This refers to the number of steps required to accumulate the gradients during the update process.\n",
    "    optim=\"paged_adamw_32bit\", # Model optimizer (AdamW optimizer).\n",
    "    save_steps=25,\n",
    "    logging_steps=25,\n",
    "    learning_rate=2e-4, # Initial learning rate. (Llama 3.1 8B ile hesaplandı)\n",
    "    weight_decay=0.001, # Weight decay is applied to all layers except bias/LayerNorm weights.\n",
    "    fp16=False, # Disable fp16/bf16 training.\n",
    "    bf16=False, # Disable fp16/bf16 training.\n",
    "    max_grad_norm=0.3, # Gradient clipping.\n",
    "    max_steps=-1,\n",
    "    warmup_ratio=0.03,\n",
    "    group_by_length=True,\n",
    "    lr_scheduler_type=\"constant\",\n",
    "    report_to=\"tensorboard\"\n",
    ")"
   ]
  },
  {
   "cell_type": "code",
   "execution_count": 10,
   "id": "bb6bf335-9af2-46be-8fc2-5a9008381161",
   "metadata": {
    "tags": []
   },
   "outputs": [
    {
     "name": "stderr",
     "output_type": "stream",
     "text": [
      "/opt/conda/lib/python3.10/site-packages/huggingface_hub/utils/_deprecation.py:100: FutureWarning: Deprecated argument(s) used in '__init__': dataset_text_field. Will not be supported from version '1.0.0'.\n",
      "\n",
      "Deprecated positional argument(s) used in SFTTrainer, please use the SFTConfig to set these arguments instead.\n",
      "  warnings.warn(message, FutureWarning)\n",
      "/opt/conda/lib/python3.10/site-packages/trl/trainer/sft_trainer.py:292: UserWarning: You didn't pass a `max_seq_length` argument to the SFTTrainer, this will default to 1024\n",
      "  warnings.warn(\n",
      "/opt/conda/lib/python3.10/site-packages/trl/trainer/sft_trainer.py:321: UserWarning: You passed a `dataset_text_field` argument to the SFTTrainer, the value you passed will override the one in the `SFTConfig`.\n",
      "  warnings.warn(\n"
     ]
    }
   ],
   "source": [
    "trainer = SFTTrainer(\n",
    "    model=model,\n",
    "    train_dataset=dataset,\n",
    "    peft_config=peft_params,\n",
    "    dataset_text_field=\"input\",\n",
    "    max_seq_length=None,\n",
    "    tokenizer=tokenizer,\n",
    "    args=training_params,\n",
    "    packing=False,\n",
    ")"
   ]
  },
  {
   "cell_type": "code",
   "execution_count": 11,
   "id": "e7cae873-68d2-4f4d-b906-a47aa2d71d51",
   "metadata": {
    "tags": []
   },
   "outputs": [
    {
     "name": "stdout",
     "output_type": "stream",
     "text": [
      "{'loss': 5.3823, 'grad_norm': 1.848921537399292, 'learning_rate': 0.0002, 'epoch': 0.3125}\n",
      "{'loss': 3.4219, 'grad_norm': 3.317167282104492, 'learning_rate': 0.0002, 'epoch': 0.625}\n",
      "{'loss': 2.9662, 'grad_norm': 2.463834285736084, 'learning_rate': 0.0002, 'epoch': 0.9375}\n",
      "{'loss': 2.6371, 'grad_norm': 5.358040809631348, 'learning_rate': 0.0002, 'epoch': 1.25}\n",
      "{'loss': 2.3203, 'grad_norm': 1.7727932929992676, 'learning_rate': 0.0002, 'epoch': 1.5625}\n",
      "{'loss': 2.2108, 'grad_norm': 1.6899242401123047, 'learning_rate': 0.0002, 'epoch': 1.875}\n",
      "{'loss': 2.1639, 'grad_norm': 1.7333773374557495, 'learning_rate': 0.0002, 'epoch': 2.1875}\n",
      "{'loss': 2.1299, 'grad_norm': 3.5865256786346436, 'learning_rate': 0.0002, 'epoch': 2.5}\n",
      "{'loss': 2.0782, 'grad_norm': 1.7934837341308594, 'learning_rate': 0.0002, 'epoch': 2.8125}\n",
      "{'loss': 1.8642, 'grad_norm': 1.9956821203231812, 'learning_rate': 0.0002, 'epoch': 3.125}\n",
      "{'loss': 1.7105, 'grad_norm': 2.5094962120056152, 'learning_rate': 0.0002, 'epoch': 3.4375}\n",
      "{'loss': 1.9062, 'grad_norm': 3.2980406284332275, 'learning_rate': 0.0002, 'epoch': 3.75}\n",
      "{'loss': 1.8182, 'grad_norm': 2.0444416999816895, 'learning_rate': 0.0002, 'epoch': 4.0625}\n",
      "{'loss': 1.5995, 'grad_norm': 2.6754863262176514, 'learning_rate': 0.0002, 'epoch': 4.375}\n",
      "{'loss': 1.7059, 'grad_norm': 2.7009084224700928, 'learning_rate': 0.0002, 'epoch': 4.6875}\n",
      "{'loss': 1.6371, 'grad_norm': 6.761103630065918, 'learning_rate': 0.0002, 'epoch': 5.0}\n",
      "{'train_runtime': 25.1343, 'train_samples_per_second': 63.658, 'train_steps_per_second': 15.914, 'train_loss': 2.3470074462890627, 'epoch': 5.0}\n"
     ]
    }
   ],
   "source": [
    "train_output = trainer.train()"
   ]
  },
  {
   "cell_type": "code",
   "execution_count": 11,
   "id": "ffd6062c-0357-4d77-9731-3f6adf367223",
   "metadata": {
    "tags": []
   },
   "outputs": [],
   "source": [
    "#text = \"soy beans for your healty and delicious meals\"\n",
    "#prompt = f\"\"\"\n",
    "#You are extracting product title and description from given text and rewriting the description and enhancing it when necessary.\n",
    "#Always give response in the user's input language.\n",
    "#Always answer in the given json format. Do not use any other keywords. Do not make up anything.\n",
    "#Explanations should contain at least three sentences each.\n",
    "\n",
    "#Json Format:\n",
    "#{{\n",
    "#\"title\": \"<title of the product>\",\n",
    "#\"description\": \"<description of the product>\"\n",
    "#}}\n",
    "\n",
    "#Examples:\n",
    "\n",
    "#Product Information: Rosehip Marmalade, keep it cold\n",
    "#Answer: {{\"title\": \"Rosehip Marmalade\", \"description\": \"You should store this delicisious roseship marmelade in cold conditions. You can use it in your breakfasts and meals.\"}}\n",
    "\n",
    "#Product Information: Blackberry jam spoils in the heat\n",
    "#Answer: {{\"title\": \"Blackberry Jam\", \"description\": \"Please store it in cold conditions. Recommended to be consumed at breakfast. Very sweet.\"}}\n",
    "\n",
    "#Now answer this:\n",
    "#Product Information: {text}\"\"\""
   ]
  },
  {
   "cell_type": "code",
   "execution_count": 12,
   "id": "c9c6bfee-b325-4470-a8f4-38f17b1f8a01",
   "metadata": {
    "tags": []
   },
   "outputs": [],
   "source": [
    "#pipe = pipeline(task=\"text-generation\", model=model, tokenizer=tokenizer, max_length=10000)\n",
    "#result = pipe(f\"Prompt: {prompt} \\n Response:\") # result = pipe(f\"Prompt: {prompt} \\n Response:\")\n",
    "#generated_text = result[0]['generated_text']"
   ]
  },
  {
   "cell_type": "code",
   "execution_count": 22,
   "id": "b310c0e6-bb3f-4ecf-b106-9de5a60ff7f7",
   "metadata": {
    "tags": []
   },
   "outputs": [],
   "source": [
    "#rm -r ./OrijinalLlama3.1-8B-Tuned"
   ]
  },
  {
   "cell_type": "code",
   "execution_count": 14,
   "id": "ab912bc3-90ea-4c79-ba44-e58e886d4554",
   "metadata": {
    "tags": []
   },
   "outputs": [],
   "source": [
    "trainer.save_model(\"Peft-Deneme\")\n",
    "tokenizer.save_pretrained(\"Peft-Tokenizer\")"
   ]
  },
  {
   "cell_type": "code",
   "execution_count": 1,
   "id": "d21733be-22b8-4841-9137-e8b61fa9e082",
   "metadata": {
    "tags": []
   },
   "outputs": [],
   "source": [
    "#from peft import AutoPeftModelForCausalLM\n",
    "\n",
    "#trained_model = AutoPeftModelForCausalLM.from_pretrained(\n",
    "    #\"Peft-Deneme\",\n",
    "    #low_cpu_mem_usage=True,\n",
    "#).to('cuda')"
   ]
  },
  {
   "cell_type": "code",
   "execution_count": 20,
   "id": "af24d365-69bb-47b4-a773-21a4bbeaca49",
   "metadata": {
    "tags": []
   },
   "outputs": [],
   "source": [
    "text = \"soy beans for your healty and delicious meals\"\n",
    "prompt = f\"\"\"\n",
    "You are extracting product title and description from given text and rewriting the description and enhancing it when necessary.\n",
    "Always give response in the user's input language.\n",
    "Always answer in the given json format. Do not use any other keywords. Do not make up anything.\n",
    "Explanations should contain at least three sentences each.\n",
    "\n",
    "Json Format:\n",
    "{{\n",
    "\"title\": \"<title of the product>\",\n",
    "\"description\": \"<description of the product>\"\n",
    "}}\n",
    "\n",
    "Examples:\n",
    "\n",
    "Product Information: Rosehip Marmalade, keep it cold\n",
    "Answer: {{\"title\": \"Rosehip Marmalade\", \"description\": \"You should store this delicisious roseship marmelade in cold conditions. You can use it in your breakfasts and meals.\"}}\n",
    "\n",
    "Product Information: Blackberry jam spoils in the heat\n",
    "Answer: {{\"title\": \"Blackberry Jam\", \"description\": \"Please store it in cold conditions. Recommended to be consumed at breakfast. Very sweet.\"}}\n",
    "\n",
    "Now answer this:\n",
    "Product Information: {text}\"\"\""
   ]
  },
  {
   "cell_type": "code",
   "execution_count": 21,
   "id": "93178cb8-f695-4832-9232-9c71998fe014",
   "metadata": {},
   "outputs": [],
   "source": [
    "pipe = pipeline(task=\"text-generation\", model=model, tokenizer=tokenizer, max_length=10000)\n",
    "result = pipe(f\"Prompt: {prompt} \\n Response:\") # result = pipe(f\"Prompt: {prompt} \\n Response:\")\n",
    "generated_text = result[0]['generated_text']"
   ]
  }
 ],
 "metadata": {
  "environment": {
   "kernel": "conda-base-py",
   "name": "workbench-notebooks.m124",
   "type": "gcloud",
   "uri": "us-docker.pkg.dev/deeplearning-platform-release/gcr.io/workbench-notebooks:m124"
  },
  "kernelspec": {
   "display_name": "Python 3 (ipykernel)",
   "language": "python",
   "name": "conda-base-py"
  },
  "language_info": {
   "codemirror_mode": {
    "name": "ipython",
    "version": 3
   },
   "file_extension": ".py",
   "mimetype": "text/x-python",
   "name": "python",
   "nbconvert_exporter": "python",
   "pygments_lexer": "ipython3",
   "version": "3.10.14"
  }
 },
 "nbformat": 4,
 "nbformat_minor": 5
}
